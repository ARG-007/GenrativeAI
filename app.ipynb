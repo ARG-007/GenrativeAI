{
 "cells": [
  {
   "cell_type": "code",
   "execution_count": 13,
   "id": "58f204fc",
   "metadata": {},
   "outputs": [],
   "source": [
    "import os\n",
    "import gradio as gr\n",
    "\n",
    "# import openai\n",
    "# from dotenv import load_dotenv\n",
    "\n",
    "# load_dotenv()"
   ]
  },
  {
   "cell_type": "code",
   "execution_count": null,
   "id": "d7f93b52",
   "metadata": {
    "slideshow": {
     "slide_type": "skip"
    }
   },
   "outputs": [],
   "source": [
    "# if you have OpenAI API key as a string, enable the below\n",
    "# openai.api_key = os.getenv(\"OpenAI\")\n",
    "\n",
    "start_sequence = \"\\nAI:\"\n",
    "restart_sequence = \"\\nHuman: \""
   ]
  },
  {
   "cell_type": "code",
   "execution_count": null,
   "id": "cc5c7b94",
   "metadata": {},
   "outputs": [],
   "source": [
    "prompt = \"The following is a conversation with an AI assistant. The assistant is helpful, creative, clever, and very friendly.\\n\\nHuman: Hello, who are you?\\nAI: I am an AI created by OpenAI. How can I help you today?\\nHuman: \""
   ]
  },
  {
   "cell_type": "code",
   "execution_count": null,
   "id": "5dda52b7",
   "metadata": {
    "slideshow": {
     "slide_type": "skip"
    }
   },
   "outputs": [],
   "source": [
    "# def openai_create(prompt):\n",
    "#     response = openai.Completion.create(\n",
    "#         model=\"text-davinci-003\",\n",
    "#         prompt=prompt,\n",
    "#         temperature=0.9,\n",
    "#         max_tokens=150,\n",
    "#         top_p=1,\n",
    "#         frequency_penalty=0,\n",
    "#         presence_penalty=0.6,\n",
    "#         stop=[\" Human:\", \" AI:\"],\n",
    "#     )\n",
    "\n",
    "#     return response.choices[0].text"
   ]
  },
  {
   "cell_type": "code",
   "execution_count": 14,
   "id": "9bd72f3b",
   "metadata": {},
   "outputs": [
    {
     "data": {
      "text/html": [
       "<pre style=\"white-space:pre;overflow-x:auto;line-height:normal;font-family:Menlo,'DejaVu Sans Mono',consolas,'Courier New',monospace\"><span style=\"font-weight: bold\">[</span><span style=\"color: #800080; text-decoration-color: #800080; font-weight: bold\">WindowsPath</span><span style=\"font-weight: bold\">(</span><span style=\"color: #008000; text-decoration-color: #008000\">'bing_cookies/bing_cookies_1.json'</span><span style=\"font-weight: bold\">)]</span>\n",
       "</pre>\n"
      ],
      "text/plain": [
       "\u001b[1m[\u001b[0m\u001b[1;35mWindowsPath\u001b[0m\u001b[1m(\u001b[0m\u001b[32m'bing_cookies/bing_cookies_1.json'\u001b[0m\u001b[1m)\u001b[0m\u001b[1m]\u001b[0m\n"
      ]
     },
     "metadata": {},
     "output_type": "display_data"
    },
    {
     "ename": "AttributeError",
     "evalue": "'NoneType' object has no attribute 'name'",
     "output_type": "error",
     "traceback": [
      "\u001b[1;31m---------------------------------------------------------------------------\u001b[0m",
      "\u001b[1;31mAttributeError\u001b[0m                            Traceback (most recent call last)",
      "Cell \u001b[1;32mIn[14], line 12\u001b[0m\n\u001b[0;32m      8\u001b[0m pprint(Cookie\u001b[39m.\u001b[39mfiles())\n\u001b[0;32m     11\u001b[0m bot: Chatbot \u001b[39m=\u001b[39m Chatbot(cookies\u001b[39m=\u001b[39mjson\u001b[39m.\u001b[39mloads(Cookie\u001b[39m.\u001b[39mfiles()[\u001b[39m0\u001b[39m]\u001b[39m.\u001b[39mread_text()))\n\u001b[1;32m---> 12\u001b[0m pprint(\u001b[39mawait\u001b[39;00m bot\u001b[39m.\u001b[39mask(prompt\u001b[39m=\u001b[39m\u001b[39m\"\u001b[39m\u001b[39mHow Are You\u001b[39m\u001b[39m\"\u001b[39m))\n",
      "File \u001b[1;32mc:\\Users\\argir\\Documents\\Projects\\GenrativeAI\\.venv\\Lib\\site-packages\\EdgeGPT\\EdgeGPT.py:116\u001b[0m, in \u001b[0;36mChatbot.ask\u001b[1;34m(self, prompt, wss_link, conversation_style, webpage_context, search_result, locale, simplify_response)\u001b[0m\n\u001b[0;32m     93\u001b[0m \u001b[39masync\u001b[39;00m \u001b[39mdef\u001b[39;00m \u001b[39mask\u001b[39m(\n\u001b[0;32m     94\u001b[0m     \u001b[39mself\u001b[39m,\n\u001b[0;32m     95\u001b[0m     prompt: \u001b[39mstr\u001b[39m,\n\u001b[1;32m   (...)\u001b[0m\n\u001b[0;32m    101\u001b[0m     simplify_response: \u001b[39mbool\u001b[39m \u001b[39m=\u001b[39m \u001b[39mFalse\u001b[39;00m,\n\u001b[0;32m    102\u001b[0m ) \u001b[39m-\u001b[39m\u001b[39m>\u001b[39m \u001b[39mdict\u001b[39m:\n\u001b[0;32m    103\u001b[0m \u001b[39m    \u001b[39m\u001b[39m\"\"\"\u001b[39;00m\n\u001b[0;32m    104\u001b[0m \u001b[39m    Ask a question to the bot\u001b[39;00m\n\u001b[0;32m    105\u001b[0m \u001b[39m    Response:\u001b[39;00m\n\u001b[1;32m   (...)\u001b[0m\n\u001b[0;32m    114\u001b[0m \u001b[39m        response[\"item\"][\"messages\"][1][\"adaptiveCards\"][0][\"body\"][0][\"text\"]\u001b[39;00m\n\u001b[0;32m    115\u001b[0m \u001b[39m    \"\"\"\u001b[39;00m\n\u001b[1;32m--> 116\u001b[0m     \u001b[39masync\u001b[39;00m \u001b[39mfor\u001b[39;00m final, response \u001b[39min\u001b[39;00m \u001b[39mself\u001b[39m\u001b[39m.\u001b[39mchat_hub\u001b[39m.\u001b[39mask_stream(\n\u001b[0;32m    117\u001b[0m         prompt\u001b[39m=\u001b[39mprompt,\n\u001b[0;32m    118\u001b[0m         conversation_style\u001b[39m=\u001b[39mconversation_style,\n\u001b[0;32m    119\u001b[0m         wss_link\u001b[39m=\u001b[39mwss_link,\n\u001b[0;32m    120\u001b[0m         webpage_context\u001b[39m=\u001b[39mwebpage_context,\n\u001b[0;32m    121\u001b[0m         search_result\u001b[39m=\u001b[39msearch_result,\n\u001b[0;32m    122\u001b[0m         locale\u001b[39m=\u001b[39mlocale,\n\u001b[0;32m    123\u001b[0m     ):\n\u001b[0;32m    124\u001b[0m         \u001b[39mif\u001b[39;00m final:\n\u001b[0;32m    125\u001b[0m             \u001b[39mif\u001b[39;00m \u001b[39mnot\u001b[39;00m simplify_response:\n",
      "File \u001b[1;32mc:\\Users\\argir\\Documents\\Projects\\GenrativeAI\\.venv\\Lib\\site-packages\\EdgeGPT\\chathub.py:115\u001b[0m, in \u001b[0;36mChatHub.ask_stream\u001b[1;34m(self, prompt, wss_link, conversation_style, raw, webpage_context, search_result, locale)\u001b[0m\n\u001b[0;32m    113\u001b[0m \u001b[39mawait\u001b[39;00m \u001b[39mself\u001b[39m\u001b[39m.\u001b[39m_initial_handshake(wss)\n\u001b[0;32m    114\u001b[0m \u001b[39m# Construct a ChatHub request\u001b[39;00m\n\u001b[1;32m--> 115\u001b[0m \u001b[39mself\u001b[39;49m\u001b[39m.\u001b[39;49mrequest\u001b[39m.\u001b[39;49mupdate(\n\u001b[0;32m    116\u001b[0m     prompt\u001b[39m=\u001b[39;49mprompt,\n\u001b[0;32m    117\u001b[0m     conversation_style\u001b[39m=\u001b[39;49mconversation_style,\n\u001b[0;32m    118\u001b[0m     webpage_context\u001b[39m=\u001b[39;49mwebpage_context,\n\u001b[0;32m    119\u001b[0m     search_result\u001b[39m=\u001b[39;49msearch_result,\n\u001b[0;32m    120\u001b[0m     locale\u001b[39m=\u001b[39;49mlocale,\n\u001b[0;32m    121\u001b[0m )\n\u001b[0;32m    122\u001b[0m \u001b[39m# Send request\u001b[39;00m\n\u001b[0;32m    123\u001b[0m \u001b[39mawait\u001b[39;00m wss\u001b[39m.\u001b[39msend_str(append_identifier(\u001b[39mself\u001b[39m\u001b[39m.\u001b[39mrequest\u001b[39m.\u001b[39mstruct))\n",
      "File \u001b[1;32mc:\\Users\\argir\\Documents\\Projects\\GenrativeAI\\.venv\\Lib\\site-packages\\EdgeGPT\\request.py:123\u001b[0m, in \u001b[0;36mChatHubRequest.update\u001b[1;34m(self, prompt, conversation_style, webpage_context, search_result, locale)\u001b[0m\n\u001b[0;32m     62\u001b[0m \u001b[39m# Get current time\u001b[39;00m\n\u001b[0;32m     63\u001b[0m timestamp \u001b[39m=\u001b[39m datetime\u001b[39m.\u001b[39mnow()\u001b[39m.\u001b[39mstrftime(\u001b[39m\"\u001b[39m\u001b[39m%\u001b[39m\u001b[39mY-\u001b[39m\u001b[39m%\u001b[39m\u001b[39mm-\u001b[39m\u001b[39m%d\u001b[39;00m\u001b[39mT\u001b[39m\u001b[39m%\u001b[39m\u001b[39mH:\u001b[39m\u001b[39m%\u001b[39m\u001b[39mM:\u001b[39m\u001b[39m%\u001b[39m\u001b[39mS\u001b[39m\u001b[39m\"\u001b[39m) \u001b[39m+\u001b[39m offset_string\n\u001b[0;32m     64\u001b[0m \u001b[39mself\u001b[39m\u001b[39m.\u001b[39mstruct \u001b[39m=\u001b[39m {\n\u001b[0;32m     65\u001b[0m     \u001b[39m\"\u001b[39m\u001b[39marguments\u001b[39m\u001b[39m\"\u001b[39m: [\n\u001b[0;32m     66\u001b[0m         {\n\u001b[0;32m     67\u001b[0m             \u001b[39m\"\u001b[39m\u001b[39msource\u001b[39m\u001b[39m\"\u001b[39m: \u001b[39m\"\u001b[39m\u001b[39mcib\u001b[39m\u001b[39m\"\u001b[39m,\n\u001b[0;32m     68\u001b[0m             \u001b[39m\"\u001b[39m\u001b[39moptionsSets\u001b[39m\u001b[39m\"\u001b[39m: options,\n\u001b[0;32m     69\u001b[0m             \u001b[39m\"\u001b[39m\u001b[39mallowedMessageTypes\u001b[39m\u001b[39m\"\u001b[39m: [\n\u001b[0;32m     70\u001b[0m                 \u001b[39m\"\u001b[39m\u001b[39mActionRequest\u001b[39m\u001b[39m\"\u001b[39m,\n\u001b[0;32m     71\u001b[0m                 \u001b[39m\"\u001b[39m\u001b[39mChat\u001b[39m\u001b[39m\"\u001b[39m,\n\u001b[0;32m     72\u001b[0m                 \u001b[39m\"\u001b[39m\u001b[39mContext\u001b[39m\u001b[39m\"\u001b[39m,\n\u001b[0;32m     73\u001b[0m                 \u001b[39m\"\u001b[39m\u001b[39mInternalSearchQuery\u001b[39m\u001b[39m\"\u001b[39m,\n\u001b[0;32m     74\u001b[0m                 \u001b[39m\"\u001b[39m\u001b[39mInternalSearchResult\u001b[39m\u001b[39m\"\u001b[39m,\n\u001b[0;32m     75\u001b[0m                 \u001b[39m\"\u001b[39m\u001b[39mDisengaged\u001b[39m\u001b[39m\"\u001b[39m,\n\u001b[0;32m     76\u001b[0m                 \u001b[39m\"\u001b[39m\u001b[39mInternalLoaderMessage\u001b[39m\u001b[39m\"\u001b[39m,\n\u001b[0;32m     77\u001b[0m                 \u001b[39m\"\u001b[39m\u001b[39mProgress\u001b[39m\u001b[39m\"\u001b[39m,\n\u001b[0;32m     78\u001b[0m                 \u001b[39m\"\u001b[39m\u001b[39mRenderCardRequest\u001b[39m\u001b[39m\"\u001b[39m,\n\u001b[0;32m     79\u001b[0m                 \u001b[39m\"\u001b[39m\u001b[39mAdsQuery\u001b[39m\u001b[39m\"\u001b[39m,\n\u001b[0;32m     80\u001b[0m                 \u001b[39m\"\u001b[39m\u001b[39mSemanticSerp\u001b[39m\u001b[39m\"\u001b[39m,\n\u001b[0;32m     81\u001b[0m                 \u001b[39m\"\u001b[39m\u001b[39mGenerateContentQuery\u001b[39m\u001b[39m\"\u001b[39m,\n\u001b[0;32m     82\u001b[0m                 \u001b[39m\"\u001b[39m\u001b[39mSearchQuery\u001b[39m\u001b[39m\"\u001b[39m,\n\u001b[0;32m     83\u001b[0m             ],\n\u001b[0;32m     84\u001b[0m             \u001b[39m\"\u001b[39m\u001b[39msliceIds\u001b[39m\u001b[39m\"\u001b[39m: [\n\u001b[0;32m     85\u001b[0m                 \u001b[39m\"\u001b[39m\u001b[39mwinmuid1tf\u001b[39m\u001b[39m\"\u001b[39m,\n\u001b[0;32m     86\u001b[0m                 \u001b[39m\"\u001b[39m\u001b[39mstyleoff\u001b[39m\u001b[39m\"\u001b[39m,\n\u001b[0;32m     87\u001b[0m                 \u001b[39m\"\u001b[39m\u001b[39mccadesk\u001b[39m\u001b[39m\"\u001b[39m,\n\u001b[0;32m     88\u001b[0m                 \u001b[39m\"\u001b[39m\u001b[39msmsrpsuppv4cf\u001b[39m\u001b[39m\"\u001b[39m,\n\u001b[0;32m     89\u001b[0m                 \u001b[39m\"\u001b[39m\u001b[39mssrrcache\u001b[39m\u001b[39m\"\u001b[39m,\n\u001b[0;32m     90\u001b[0m                 \u001b[39m\"\u001b[39m\u001b[39mcontansperf\u001b[39m\u001b[39m\"\u001b[39m,\n\u001b[0;32m     91\u001b[0m                 \u001b[39m\"\u001b[39m\u001b[39mcrchatrev\u001b[39m\u001b[39m\"\u001b[39m,\n\u001b[0;32m     92\u001b[0m                 \u001b[39m\"\u001b[39m\u001b[39mwinstmsg2tf\u001b[39m\u001b[39m\"\u001b[39m,\n\u001b[0;32m     93\u001b[0m                 \u001b[39m\"\u001b[39m\u001b[39mcreatgoglt\u001b[39m\u001b[39m\"\u001b[39m,\n\u001b[0;32m     94\u001b[0m                 \u001b[39m\"\u001b[39m\u001b[39mcreatorv2t\u001b[39m\u001b[39m\"\u001b[39m,\n\u001b[0;32m     95\u001b[0m                 \u001b[39m\"\u001b[39m\u001b[39msydconfigoptt\u001b[39m\u001b[39m\"\u001b[39m,\n\u001b[0;32m     96\u001b[0m                 \u001b[39m\"\u001b[39m\u001b[39madssqovroff\u001b[39m\u001b[39m\"\u001b[39m,\n\u001b[0;32m     97\u001b[0m                 \u001b[39m\"\u001b[39m\u001b[39m530pstho\u001b[39m\u001b[39m\"\u001b[39m,\n\u001b[0;32m     98\u001b[0m                 \u001b[39m\"\u001b[39m\u001b[39m517opinion\u001b[39m\u001b[39m\"\u001b[39m,\n\u001b[0;32m     99\u001b[0m                 \u001b[39m\"\u001b[39m\u001b[39m418dhlth\u001b[39m\u001b[39m\"\u001b[39m,\n\u001b[0;32m    100\u001b[0m                 \u001b[39m\"\u001b[39m\u001b[39m512sprtic1s0\u001b[39m\u001b[39m\"\u001b[39m,\n\u001b[0;32m    101\u001b[0m                 \u001b[39m\"\u001b[39m\u001b[39memsgpr\u001b[39m\u001b[39m\"\u001b[39m,\n\u001b[0;32m    102\u001b[0m                 \u001b[39m\"\u001b[39m\u001b[39m525ptrcps0\u001b[39m\u001b[39m\"\u001b[39m,\n\u001b[0;32m    103\u001b[0m                 \u001b[39m\"\u001b[39m\u001b[39m529rweas0\u001b[39m\u001b[39m\"\u001b[39m,\n\u001b[0;32m    104\u001b[0m                 \u001b[39m\"\u001b[39m\u001b[39m515oscfing2s0\u001b[39m\u001b[39m\"\u001b[39m,\n\u001b[0;32m    105\u001b[0m                 \u001b[39m\"\u001b[39m\u001b[39m524vidansgs0\u001b[39m\u001b[39m\"\u001b[39m,\n\u001b[0;32m    106\u001b[0m             ],\n\u001b[0;32m    107\u001b[0m             \u001b[39m\"\u001b[39m\u001b[39mverbosity\u001b[39m\u001b[39m\"\u001b[39m: \u001b[39m\"\u001b[39m\u001b[39mverbose\u001b[39m\u001b[39m\"\u001b[39m,\n\u001b[0;32m    108\u001b[0m             \u001b[39m\"\u001b[39m\u001b[39mtraceId\u001b[39m\u001b[39m\"\u001b[39m: get_ran_hex(\u001b[39m32\u001b[39m),\n\u001b[0;32m    109\u001b[0m             \u001b[39m\"\u001b[39m\u001b[39misStartOfSession\u001b[39m\u001b[39m\"\u001b[39m: \u001b[39mself\u001b[39m\u001b[39m.\u001b[39minvocation_id \u001b[39m==\u001b[39m \u001b[39m3\u001b[39m,\n\u001b[0;32m    110\u001b[0m             \u001b[39m\"\u001b[39m\u001b[39mmessage\u001b[39m\u001b[39m\"\u001b[39m: {\n\u001b[0;32m    111\u001b[0m                 \u001b[39m\"\u001b[39m\u001b[39mlocale\u001b[39m\u001b[39m\"\u001b[39m: locale,\n\u001b[0;32m    112\u001b[0m                 \u001b[39m\"\u001b[39m\u001b[39mmarket\u001b[39m\u001b[39m\"\u001b[39m: locale,\n\u001b[0;32m    113\u001b[0m                 \u001b[39m\"\u001b[39m\u001b[39mregion\u001b[39m\u001b[39m\"\u001b[39m: locale[\u001b[39m-\u001b[39m\u001b[39m2\u001b[39m:],  \u001b[39m# en-US -> US\u001b[39;00m\n\u001b[0;32m    114\u001b[0m                 \u001b[39m\"\u001b[39m\u001b[39mlocationHints\u001b[39m\u001b[39m\"\u001b[39m: get_location_hint_from_locale(locale),\n\u001b[0;32m    115\u001b[0m                 \u001b[39m\"\u001b[39m\u001b[39mtimestamp\u001b[39m\u001b[39m\"\u001b[39m: timestamp,\n\u001b[0;32m    116\u001b[0m                 \u001b[39m\"\u001b[39m\u001b[39mauthor\u001b[39m\u001b[39m\"\u001b[39m: \u001b[39m\"\u001b[39m\u001b[39muser\u001b[39m\u001b[39m\"\u001b[39m,\n\u001b[0;32m    117\u001b[0m                 \u001b[39m\"\u001b[39m\u001b[39minputMethod\u001b[39m\u001b[39m\"\u001b[39m: \u001b[39m\"\u001b[39m\u001b[39mKeyboard\u001b[39m\u001b[39m\"\u001b[39m,\n\u001b[0;32m    118\u001b[0m                 \u001b[39m\"\u001b[39m\u001b[39mtext\u001b[39m\u001b[39m\"\u001b[39m: prompt,\n\u001b[0;32m    119\u001b[0m                 \u001b[39m\"\u001b[39m\u001b[39mmessageType\u001b[39m\u001b[39m\"\u001b[39m: \u001b[39m\"\u001b[39m\u001b[39mChat\u001b[39m\u001b[39m\"\u001b[39m,\n\u001b[0;32m    120\u001b[0m                 \u001b[39m\"\u001b[39m\u001b[39mmessageId\u001b[39m\u001b[39m\"\u001b[39m: message_id,\n\u001b[0;32m    121\u001b[0m                 \u001b[39m\"\u001b[39m\u001b[39mrequestId\u001b[39m\u001b[39m\"\u001b[39m: message_id,\n\u001b[0;32m    122\u001b[0m             },\n\u001b[1;32m--> 123\u001b[0m             \u001b[39m\"\u001b[39m\u001b[39mtone\u001b[39m\u001b[39m\"\u001b[39m: conversation_style\u001b[39m.\u001b[39;49mname\u001b[39m.\u001b[39mcapitalize(),  \u001b[39m# Make first letter uppercase\u001b[39;00m\n\u001b[0;32m    124\u001b[0m             \u001b[39m\"\u001b[39m\u001b[39mrequestId\u001b[39m\u001b[39m\"\u001b[39m: message_id,\n\u001b[0;32m    125\u001b[0m             \u001b[39m\"\u001b[39m\u001b[39mconversationSignature\u001b[39m\u001b[39m\"\u001b[39m: \u001b[39mself\u001b[39m\u001b[39m.\u001b[39mconversation_signature,\n\u001b[0;32m    126\u001b[0m             \u001b[39m\"\u001b[39m\u001b[39mparticipant\u001b[39m\u001b[39m\"\u001b[39m: {\n\u001b[0;32m    127\u001b[0m                 \u001b[39m\"\u001b[39m\u001b[39mid\u001b[39m\u001b[39m\"\u001b[39m: \u001b[39mself\u001b[39m\u001b[39m.\u001b[39mclient_id,\n\u001b[0;32m    128\u001b[0m             },\n\u001b[0;32m    129\u001b[0m             \u001b[39m\"\u001b[39m\u001b[39mconversationId\u001b[39m\u001b[39m\"\u001b[39m: \u001b[39mself\u001b[39m\u001b[39m.\u001b[39mconversation_id,\n\u001b[0;32m    130\u001b[0m         },\n\u001b[0;32m    131\u001b[0m     ],\n\u001b[0;32m    132\u001b[0m     \u001b[39m\"\u001b[39m\u001b[39minvocationId\u001b[39m\u001b[39m\"\u001b[39m: \u001b[39mstr\u001b[39m(\u001b[39mself\u001b[39m\u001b[39m.\u001b[39minvocation_id),\n\u001b[0;32m    133\u001b[0m     \u001b[39m\"\u001b[39m\u001b[39mtarget\u001b[39m\u001b[39m\"\u001b[39m: \u001b[39m\"\u001b[39m\u001b[39mchat\u001b[39m\u001b[39m\"\u001b[39m,\n\u001b[0;32m    134\u001b[0m     \u001b[39m\"\u001b[39m\u001b[39mtype\u001b[39m\u001b[39m\"\u001b[39m: \u001b[39m4\u001b[39m,\n\u001b[0;32m    135\u001b[0m }\n\u001b[0;32m    136\u001b[0m \u001b[39mif\u001b[39;00m search_result:\n\u001b[0;32m    137\u001b[0m     have_search_result \u001b[39m=\u001b[39m [\n\u001b[0;32m    138\u001b[0m         \u001b[39m\"\u001b[39m\u001b[39mInternalSearchQuery\u001b[39m\u001b[39m\"\u001b[39m,\n\u001b[0;32m    139\u001b[0m         \u001b[39m\"\u001b[39m\u001b[39mInternalSearchResult\u001b[39m\u001b[39m\"\u001b[39m,\n\u001b[0;32m    140\u001b[0m         \u001b[39m\"\u001b[39m\u001b[39mInternalLoaderMessage\u001b[39m\u001b[39m\"\u001b[39m,\n\u001b[0;32m    141\u001b[0m         \u001b[39m\"\u001b[39m\u001b[39mRenderCardRequest\u001b[39m\u001b[39m\"\u001b[39m,\n\u001b[0;32m    142\u001b[0m     ]\n",
      "\u001b[1;31mAttributeError\u001b[0m: 'NoneType' object has no attribute 'name'"
     ]
    }
   ],
   "source": [
    "from EdgeGPT.EdgeUtils import Query, Cookie\n",
    "import asyncio, json\n",
    "from pathlib import Path\n",
    "from rich.pretty import pprint\n",
    "from EdgeGPT.EdgeGPT import Chatbot, ConversationStyle\n",
    "\n",
    "Cookie.dir_path = Path(r\"./bing_cookies/\")\n",
    "pprint(Cookie.files())\n",
    "\n",
    "\n",
    "bot: Chatbot = Chatbot(cookies=json.loads(Cookie.files()[0].read_text()))\n",
    "pprint(await bot.ask(prompt=\"How Are You\"))"
   ]
  },
  {
   "cell_type": "code",
   "execution_count": null,
   "id": "a19eb6dc",
   "metadata": {},
   "outputs": [],
   "source": [
    "def chatgpt_clone(input, history):\n",
    "    history = history or []\n",
    "    s = list(sum(history, ()))\n",
    "    s.append(input)\n",
    "    inp = \"\\n\\n\".join(s)\n",
    "    output = Query(inp)\n",
    "    pprint(output.response)\n",
    "    output = output.output\n",
    "    history.append((input, output))\n",
    "    return history, history"
   ]
  },
  {
   "cell_type": "code",
   "execution_count": null,
   "id": "3da310e0",
   "metadata": {},
   "outputs": [],
   "source": [
    "block = gr.Blocks()"
   ]
  },
  {
   "cell_type": "code",
   "execution_count": null,
   "id": "db29e052",
   "metadata": {},
   "outputs": [],
   "source": [
    "with block:\n",
    "    gr.Markdown(\n",
    "        \"\"\"<h1><center>Build Your Own Idiot</center></h1>\n",
    "    \"\"\"\n",
    "    )\n",
    "    chatbot = gr.Chatbot()\n",
    "    message = gr.Textbox(placeholder=prompt)\n",
    "    state = gr.State()\n",
    "    submit = gr.Button(\"SEND\")\n",
    "    submit.click(chatgpt_clone, inputs=[message, state], outputs=[chatbot, state])"
   ]
  },
  {
   "cell_type": "code",
   "execution_count": null,
   "id": "7b3daeaf",
   "metadata": {},
   "outputs": [],
   "source": [
    "block.close()\n",
    "block.launch(debug=True)"
   ]
  }
 ],
 "metadata": {
  "kernelspec": {
   "display_name": "Python 3 (ipykernel)",
   "language": "python",
   "name": "python3"
  },
  "language_info": {
   "codemirror_mode": {
    "name": "ipython",
    "version": 3
   },
   "file_extension": ".py",
   "mimetype": "text/x-python",
   "name": "python",
   "nbconvert_exporter": "python",
   "pygments_lexer": "ipython3",
   "version": "3.11.3"
  }
 },
 "nbformat": 4,
 "nbformat_minor": 5
}
