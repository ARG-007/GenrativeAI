{
 "cells": [
  {
   "cell_type": "markdown",
   "metadata": {},
   "source": [
    "### Task 9 \n",
    "#### You have a partially completed story. Write a function that takes the existing story as input and generates the next sentence to continue the narrative. Use a generative AI approach to make the continuation engaging. Upload screenshots of both the code and the output (upload only in PNG image format)."
   ]
  },
  {
   "cell_type": "code",
   "execution_count": null,
   "metadata": {},
   "outputs": [],
   "source": [
    "import json\n",
    "from rich import print\n",
    "import gradio as gr\n",
    "from pathlib import Path\n",
    "\n",
    "# EdgeGPT is Used Instead Of OpenAI's API\n",
    "from EdgeGPT.EdgeGPT import Chatbot, ConversationStyle\n",
    "\n",
    "# Loading Session Cookies\n",
    "bot: Chatbot = Chatbot(\n",
    "    cookies=json.load(open(r\"../bing_cookies/bing_cookies_2023_SEP_01.json\"))\n",
    ")"
   ]
  },
  {
   "cell_type": "code",
   "execution_count": null,
   "metadata": {},
   "outputs": [],
   "source": [
    "# Setting Up Behaviour\n",
    "print(\n",
    "    await bot.ask(\n",
    "        \"You are a story completer and you should complete my incomplete story and your response should only contain story elements, create short stories\",\n",
    "        conversation_style=ConversationStyle.creative,\n",
    "    )\n",
    ")"
   ]
  },
  {
   "cell_type": "code",
   "execution_count": null,
   "metadata": {},
   "outputs": [],
   "source": [
    "# Function That Will Query And Return The Response\n",
    "async def continueStory(userStory, chatBot):\n",
    "    response = await bot.ask(\n",
    "        userStory,\n",
    "        conversation_style=ConversationStyle.creative,\n",
    "        simplify_response=True,\n",
    "    )\n",
    "\n",
    "    return chatBot + [[userStory, response[\"text\"]]]\n",
    "\n",
    "\n",
    "with gr.Blocks(theme=\"soft\", title=\"The Completer\") as demo:\n",
    "    with gr.Row():\n",
    "        userStory = gr.Textbox(\n",
    "            label=\"Tell Me Your Story\",\n",
    "            placeholder=\"Start Your Story\",\n",
    "            lines=10,\n",
    "            info=\"Enter Your Story To Complete\",\n",
    "        )\n",
    "        chatBot = gr.Chatbot(label=\"I Shall Tell You Mine\", show_copy_button=True)\n",
    "    generate = gr.Button(\"Continue\", size=\"sm\")\n",
    "\n",
    "    generate.click(continueStory, inputs=[userStory, chatBot], outputs=[chatBot])\n",
    "\n",
    "demo.launch(debug=True)"
   ]
  },
  {
   "cell_type": "markdown",
   "metadata": {},
   "source": [
    "Q7. Write a function that takes a code snippet as input and generates a comment describing what the code does, using a generative AI approach. The comment should provide a clear and concise explanation of the code's functionality. (Note: You will need to install the openai library and have an OpenAI API key). Upload screenshots of both the code and the output (upload only in PNG image format).\n",
    "\n",
    "Q8. Create a function that generates a short poem based on a given theme. The function should use a generative AI approach to create poetic lines that align with the theme. (Note: You will need to install the openai library and have an OpenAI API key.) Upload screenshots of both the code and the output (upload only in PNG image format).\n",
    "\n",
    "Q9. In this training, we discussed how to make use of ChatGPT. Download and run the kit. Create a prompt to make ChatGPT suggest you with the preparatory steps for creating a Italian cuisine. Share the screenshot of the reply. Upload screenshots of both the prompt and the output (upload only in PNG image format).\n",
    "\n",
    "Q10. Develop a function that generates a short creative story based on a given starting sentence. The function should use the kandi-1 click kit on ChatGPT to continue the story in an imaginative and engaging manner. Upload screenshots of both the code and the output (upload only in PNG image format)."
   ]
  }
 ],
 "metadata": {
  "kernelspec": {
   "display_name": "Python 3 (ipykernel)",
   "language": "python",
   "name": "python3"
  },
  "language_info": {
   "codemirror_mode": {
    "name": "ipython",
    "version": 3
   },
   "file_extension": ".py",
   "mimetype": "text/x-python",
   "name": "python",
   "nbconvert_exporter": "python",
   "pygments_lexer": "ipython3",
   "version": "3.11.3"
  }
 },
 "nbformat": 4,
 "nbformat_minor": 4
}
