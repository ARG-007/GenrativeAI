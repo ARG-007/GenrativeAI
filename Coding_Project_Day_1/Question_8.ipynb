{
 "cells": [
  {
   "cell_type": "markdown",
   "metadata": {},
   "source": [
    "# TASK 8\n",
    "### Create a function that takes a name as input and generates a simple greeting message using a generative AI approach. For example, if the input name is \"Alice,\" the function should generate a message like \"Hello, Alice! How can I assist you today?\" Upload screenshots of both the code and the output (upload only in PNG image format)."
   ]
  },
  {
   "cell_type": "code",
   "execution_count": null,
   "metadata": {},
   "outputs": [],
   "source": [
    "import json\n",
    "import gradio as gr\n",
    "\n",
    "# EdgeGPT is Used Instead Of OpenAI's API\n",
    "from EdgeGPT.EdgeGPT import Chatbot, ConversationStyle\n",
    "\n",
    "# Loading Session Cookies\n",
    "bot: Chatbot = Chatbot(\n",
    "    cookies=json.load(open(r\"../bing_cookies/bing_cookies_2023_SEP_01.json\"))\n",
    ")"
   ]
  },
  {
   "cell_type": "code",
   "execution_count": null,
   "metadata": {},
   "outputs": [],
   "source": [
    "with open(r\"./dumps/Question_8_Initial_Response.json\", \"w\") as file:\n",
    "    file.write(\n",
    "        json.dumps(\n",
    "            # Specifically Created Prompt for near frequent success of behaviour setting\n",
    "            await bot.ask(\n",
    "                'You know greetings?, in my country we always say \"Hello {name}!, How Can I Assist You Today?\" for \"I am {name}\",  I expect same from you',\n",
    "                conversation_style=ConversationStyle.precise,\n",
    "            )\n",
    "        )\n",
    "    )"
   ]
  },
  {
   "cell_type": "code",
   "execution_count": null,
   "metadata": {},
   "outputs": [],
   "source": [
    "async def greet(name: str) -> str:\n",
    "    res = await bot.ask(\n",
    "        f\"I am {name}\",\n",
    "        conversation_style=ConversationStyle.precise,\n",
    "        simplify_response=True,\n",
    "    )\n",
    "\n",
    "    return res[\"text\"], res[\"messages_left\"]\n",
    "\n",
    "\n",
    "with gr.Blocks(theme=\"soft\") as demo:\n",
    "    gr.Markdown(\"# <center style='color: red'> Breeter The Greeter </center>\")\n",
    "    name = gr.Textbox(info=\"Enter Your Name\", placeholder=\"Name\", show_label=False)\n",
    "    with gr.Row():\n",
    "        output = gr.Textbox(label=\"Greet Bot\", interactive=False)\n",
    "        greetingsLeft = gr.Textbox(\n",
    "            30, label=\"Greetings Left\", text_align=\"right\", interactive=False\n",
    "        )\n",
    "\n",
    "    name.submit(greet, inputs=[name], outputs=[output, greetingsLeft])\n",
    "\n",
    "demo.close()\n",
    "demo.launch(debug=True)"
   ]
  }
 ],
 "metadata": {
  "kernelspec": {
   "display_name": ".venv",
   "language": "python",
   "name": "python3"
  },
  "language_info": {
   "codemirror_mode": {
    "name": "ipython",
    "version": 3
   },
   "file_extension": ".py",
   "mimetype": "text/x-python",
   "name": "python",
   "nbconvert_exporter": "python",
   "pygments_lexer": "ipython3",
   "version": "3.11.3"
  },
  "orig_nbformat": 4
 },
 "nbformat": 4,
 "nbformat_minor": 2
}
