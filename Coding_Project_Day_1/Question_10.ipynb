{
 "cells": [
  {
   "cell_type": "markdown",
   "metadata": {},
   "source": [
    "# TASK 10\n",
    "### Create a function that simulates a conversation between a user and ChatGPT. The user provides a list of messages, and the function generates a response for each message. The function should use the kandi-1 click kit on ChatGPT to provide responses in an engaging manner. Upload screenshots of both the code and the output (upload only in PNG image format)."
   ]
  },
  {
   "cell_type": "code",
   "execution_count": 1,
   "metadata": {},
   "outputs": [],
   "source": [
    "import json\n",
    "import gradio as gr\n",
    "\n",
    "# EdgeGPT is Used Instead Of OpenAI's API\n",
    "from EdgeGPT.EdgeGPT import Chatbot, ConversationStyle\n",
    "\n",
    "# Loading Session Cookies\n",
    "bot: Chatbot = Chatbot(\n",
    "    cookies=json.load(open(r\"../bing_cookies/bing_cookies_2023_SEP_01.json\"))\n",
    ")"
   ]
  },
  {
   "cell_type": "code",
   "execution_count": 6,
   "metadata": {},
   "outputs": [
    {
     "name": "stdout",
     "output_type": "stream",
     "text": [
      "Running on local URL:  http://127.0.0.1:7861\n",
      "\n",
      "To create a public link, set `share=True` in `launch()`.\n"
     ]
    },
    {
     "data": {
      "text/html": [
       "<div><iframe src=\"http://127.0.0.1:7861/\" width=\"100%\" height=\"500\" allow=\"autoplay; camera; microphone; clipboard-read; clipboard-write;\" frameborder=\"0\" allowfullscreen></iframe></div>"
      ],
      "text/plain": [
       "<IPython.core.display.HTML object>"
      ]
     },
     "metadata": {},
     "output_type": "display_data"
    },
    {
     "name": "stdout",
     "output_type": "stream",
     "text": [
      "Keyboard interruption in main thread... closing server.\n"
     ]
    },
    {
     "data": {
      "text/plain": []
     },
     "execution_count": 6,
     "metadata": {},
     "output_type": "execute_result"
    }
   ],
   "source": [
    "async def chat(input, history):\n",
    "    response = await bot.ask(\n",
    "        input, conversation_style=ConversationStyle.creative, simplify_response=True\n",
    "    )\n",
    "\n",
    "    return response[\"text\"]\n",
    "\n",
    "\n",
    "demo = gr.ChatInterface(chat, theme=\"soft\")\n",
    "\n",
    "demo.launch(debug=True)"
   ]
  }
 ],
 "metadata": {
  "kernelspec": {
   "display_name": ".venv",
   "language": "python",
   "name": "python3"
  },
  "language_info": {
   "codemirror_mode": {
    "name": "ipython",
    "version": 3
   },
   "file_extension": ".py",
   "mimetype": "text/x-python",
   "name": "python",
   "nbconvert_exporter": "python",
   "pygments_lexer": "ipython3",
   "version": "3.11.3"
  },
  "orig_nbformat": 4
 },
 "nbformat": 4,
 "nbformat_minor": 2
}
